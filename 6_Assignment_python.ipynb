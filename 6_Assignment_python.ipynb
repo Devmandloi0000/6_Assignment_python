{
 "cells": [
  {
   "cell_type": "markdown",
   "id": "a36bc6e2",
   "metadata": {},
   "source": [
    "# 6 Assignment of Python "
   ]
  },
  {
   "cell_type": "markdown",
   "id": "dbd021da",
   "metadata": {},
   "source": [
    "## QUE(1)"
   ]
  },
  {
   "cell_type": "markdown",
   "id": "6e0af1de",
   "metadata": {},
   "source": [
    "Q.1. What are keywords in python? Using the keyword library, print all the python keywords.\n"
   ]
  },
  {
   "cell_type": "code",
   "execution_count": 22,
   "id": "17a395f6",
   "metadata": {},
   "outputs": [
    {
     "name": "stdout",
     "output_type": "stream",
     "text": [
      "['False', 'None', 'True', '__peg_parser__', 'and', 'as', 'assert', 'async', 'await', 'break', 'class', 'continue', 'def', 'del', 'elif', 'else', 'except', 'finally', 'for', 'from', 'global', 'if', 'import', 'in', 'is', 'lambda', 'nonlocal', 'not', 'or', 'pass', 'raise', 'return', 'try', 'while', 'with', 'yield']\n"
     ]
    }
   ],
   "source": [
    "# solution(1)\n",
    "\n",
    "import keyword\n",
    "l = keyword.kwlist\n",
    "print(l)"
   ]
  },
  {
   "cell_type": "markdown",
   "id": "9cc5c904",
   "metadata": {},
   "source": [
    "##  QUE(2)"
   ]
  },
  {
   "cell_type": "markdown",
   "id": "a4a056a0",
   "metadata": {},
   "source": [
    "Q.2. What are the rules to create variables in python?\n"
   ]
  },
  {
   "cell_type": "markdown",
   "id": "da21b6e2",
   "metadata": {},
   "source": [
    "Rules for creating varibles in python are :-"
   ]
  },
  {
   "cell_type": "markdown",
   "id": "c705c8ce",
   "metadata": {},
   "source": [
    "1) variable name can not starts with numbers > "
   ]
  },
  {
   "cell_type": "code",
   "execution_count": 17,
   "id": "287a9747",
   "metadata": {
    "scrolled": true
   },
   "outputs": [
    {
     "ename": "SyntaxError",
     "evalue": "cannot assign to literal (1471284524.py, line 1)",
     "output_type": "error",
     "traceback": [
      "\u001b[1;36m  Input \u001b[1;32mIn [17]\u001b[1;36m\u001b[0m\n\u001b[1;33m    124 = 'dev mandloi'\u001b[0m\n\u001b[1;37m    ^\u001b[0m\n\u001b[1;31mSyntaxError\u001b[0m\u001b[1;31m:\u001b[0m cannot assign to literal\n"
     ]
    }
   ],
   "source": [
    "124 = 'dev mandloi'"
   ]
  },
  {
   "cell_type": "markdown",
   "id": "974e8da7",
   "metadata": {},
   "source": [
    "2) varible name can  not contain any special characters"
   ]
  },
  {
   "cell_type": "code",
   "execution_count": 23,
   "id": "8ef2cfa8",
   "metadata": {},
   "outputs": [
    {
     "ename": "SyntaxError",
     "evalue": "invalid syntax (3900791272.py, line 1)",
     "output_type": "error",
     "traceback": [
      "\u001b[1;36m  Input \u001b[1;32mIn [23]\u001b[1;36m\u001b[0m\n\u001b[1;33m    @%variable = 'dev mandloi'\u001b[0m\n\u001b[1;37m     ^\u001b[0m\n\u001b[1;31mSyntaxError\u001b[0m\u001b[1;31m:\u001b[0m invalid syntax\n"
     ]
    }
   ],
   "source": [
    "@%variable = 'dev mandloi'"
   ]
  },
  {
   "cell_type": "markdown",
   "id": "fcd0ded4",
   "metadata": {},
   "source": [
    "3) variables can be a aplhadigit or alpha - numeric"
   ]
  },
  {
   "cell_type": "code",
   "execution_count": 19,
   "id": "6470bd94",
   "metadata": {},
   "outputs": [
    {
     "name": "stdout",
     "output_type": "stream",
     "text": [
      "india is a country\n"
     ]
    }
   ],
   "source": [
    "variable12 = 'india is a country'\n",
    "print(variable12)"
   ]
  },
  {
   "cell_type": "markdown",
   "id": "7ea9ee0c",
   "metadata": {},
   "source": [
    "4) Variable are case sensitive "
   ]
  },
  {
   "cell_type": "code",
   "execution_count": 20,
   "id": "6d3b2299",
   "metadata": {},
   "outputs": [
    {
     "name": "stdout",
     "output_type": "stream",
     "text": [
      "1000\n",
      "10\n"
     ]
    }
   ],
   "source": [
    "TEN = 1000\n",
    "ten = 10\n",
    "\n",
    "print(TEN)\n",
    "print(ten)"
   ]
  },
  {
   "cell_type": "markdown",
   "id": "c07642ac",
   "metadata": {},
   "source": [
    "## QUE(3)"
   ]
  },
  {
   "cell_type": "markdown",
   "id": "e9d3d458",
   "metadata": {},
   "source": [
    "Q.3. What are the standards and conventions followed for the nomenclature of variables in\n",
    "python to improve code readability and maintainability?\n"
   ]
  },
  {
   "cell_type": "markdown",
   "id": "8422c7d8",
   "metadata": {},
   "source": [
    "solution >> coventions to be followed for Variables ,Variable should not starts with a numbers, Variable should not contain any special character , Variable are case sensitive \n",
    "\n",
    "its important to python but it is important to us , the programmer it's specially helpful for other programmer when they read our code"
   ]
  },
  {
   "cell_type": "markdown",
   "id": "1db32ce6",
   "metadata": {},
   "source": [
    "## QUE(4)"
   ]
  },
  {
   "cell_type": "markdown",
   "id": "69ff71b5",
   "metadata": {},
   "source": [
    "Q.4. What will happen if a keyword is used as a variable name?"
   ]
  },
  {
   "cell_type": "markdown",
   "id": "2f348393",
   "metadata": {},
   "source": [
    "If we used keywors as a vriable name than we have face many problems such as:-\n",
    "(1) python has it reserved word which can be use as variable and there is no any restriction to use as variable\n",
    "(2) if we used as variable then reserve word does not work after use\n",
    "(3) error are occurs after creation a variable\n",
    "(4) if we call after a creation than error will be displayed\n",
    "\n",
    " examples:- there are >"
   ]
  },
  {
   "cell_type": "code",
   "execution_count": 44,
   "id": "e067398b",
   "metadata": {},
   "outputs": [],
   "source": [
    "print = 'hello india' #if we assign print as a variable then ,default print keyword lost and new creating a new varible"
   ]
  },
  {
   "cell_type": "code",
   "execution_count": 45,
   "id": "ec2b7abb",
   "metadata": {},
   "outputs": [
    {
     "ename": "TypeError",
     "evalue": "'str' object is not callable",
     "output_type": "error",
     "traceback": [
      "\u001b[1;31m---------------------------------------------------------------------------\u001b[0m",
      "\u001b[1;31mTypeError\u001b[0m                                 Traceback (most recent call last)",
      "Input \u001b[1;32mIn [45]\u001b[0m, in \u001b[0;36m<cell line: 1>\u001b[1;34m()\u001b[0m\n\u001b[1;32m----> 1\u001b[0m \u001b[38;5;28;43mprint\u001b[39;49m\u001b[43m(\u001b[49m\u001b[38;5;28;43mprint\u001b[39;49m\u001b[43m)\u001b[49m\n",
      "\u001b[1;31mTypeError\u001b[0m: 'str' object is not callable"
     ]
    }
   ],
   "source": [
    "print(print) #this error because of print statement, we assign a print as a variable therefore error are displyed"
   ]
  },
  {
   "cell_type": "code",
   "execution_count": 46,
   "id": "28a12af5",
   "metadata": {},
   "outputs": [],
   "source": [
    "del(print) # we can delete after creation and print again assign its default "
   ]
  },
  {
   "cell_type": "code",
   "execution_count": 47,
   "id": "3b9a1061",
   "metadata": {},
   "outputs": [
    {
     "name": "stdout",
     "output_type": "stream",
     "text": [
      "hello world\n"
     ]
    }
   ],
   "source": [
    "print('hello world')"
   ]
  },
  {
   "cell_type": "markdown",
   "id": "65c606af",
   "metadata": {},
   "source": [
    "## QUE(5)"
   ]
  },
  {
   "cell_type": "markdown",
   "id": "3f5dc27c",
   "metadata": {},
   "source": [
    "Q.5. For what purpose def keyword is used?"
   ]
  },
  {
   "cell_type": "markdown",
   "id": "25e0fa84",
   "metadata": {},
   "source": [
    " solution >>>>> def keyword is used to define a function or create function"
   ]
  },
  {
   "cell_type": "markdown",
   "id": "65a55641",
   "metadata": {},
   "source": [
    "##  QUE(6)"
   ]
  },
  {
   "cell_type": "markdown",
   "id": "97617abb",
   "metadata": {},
   "source": [
    "Q.6. What is the operation of this special character ‘\\’?"
   ]
  },
  {
   "cell_type": "code",
   "execution_count": 48,
   "id": "a38b0264",
   "metadata": {},
   "outputs": [],
   "source": [
    "# '\\n' this is used for new line "
   ]
  },
  {
   "cell_type": "markdown",
   "id": "1088c2b2",
   "metadata": {},
   "source": [
    "## QUE(7) "
   ]
  },
  {
   "cell_type": "markdown",
   "id": "a4bcffe1",
   "metadata": {},
   "source": [
    "Q.7. Give an example of the following conditions:\n",
    "(i) Homogeneous list\n",
    "(ii) Heterogeneous set\n",
    "(iii) Homogeneous tuple\n"
   ]
  },
  {
   "cell_type": "code",
   "execution_count": 50,
   "id": "2b8cfc30",
   "metadata": {},
   "outputs": [
    {
     "name": "stdout",
     "output_type": "stream",
     "text": [
      "[1, 2, 3, 4, 5, 6, 7, 8, 9]\n"
     ]
    }
   ],
   "source": [
    "# HOMOGENEOUS LIST\n",
    "# Pyhton List can be either homogeneous or heterogenous it mean list can contain even a single type of datatype or different type od datatypes\n",
    "\n",
    "Homo_list = [1,2,3,4,5,6,7,8,9] #homogeneous list mean contain same type of datatype \n",
    "print(Homo_list)"
   ]
  },
  {
   "cell_type": "code",
   "execution_count": 54,
   "id": "bd21623a",
   "metadata": {},
   "outputs": [
    {
     "name": "stdout",
     "output_type": "stream",
     "text": [
      "{True, 'ram', 4, 5, 6, 3.2, 'dev'}\n"
     ]
    }
   ],
   "source": [
    "# Heterogeneous set\n",
    "\n",
    "Hete_set = {'dev','ram',5,4,6,3.2,True}\n",
    "\n",
    "print(Hete_set)"
   ]
  },
  {
   "cell_type": "code",
   "execution_count": 56,
   "id": "54c1543d",
   "metadata": {},
   "outputs": [
    {
     "name": "stdout",
     "output_type": "stream",
     "text": [
      "('dev', 'ram', 5.5, 4, 5, 6, 8)\n"
     ]
    }
   ],
   "source": [
    "# Homogeneous tuple\n",
    "\n",
    "Homo_tuple = ('dev', 'ram',5.5,4,5,6,8)\n",
    "\n",
    "print(Homo_tuple)"
   ]
  },
  {
   "cell_type": "markdown",
   "id": "56c0e2be",
   "metadata": {},
   "source": [
    "## QUE(8)"
   ]
  },
  {
   "cell_type": "markdown",
   "id": "f8304563",
   "metadata": {},
   "source": [
    "Q.8. Explain the mutable and immutable data types with proper explanation & examples.\n"
   ]
  },
  {
   "cell_type": "markdown",
   "id": "7b6f7e9c",
   "metadata": {},
   "source": [
    "Mutable data types mean those allow to changed theie value or data in place without affectng to other objects\n",
    "Immutable data types mean which can not be changed once created or we can't assign a new data or value after creations\n",
    "\n",
    "mutable data types are   :- list | dictionary | set \n",
    "\n",
    "Immutable data types are :- int  | strings    | bool  | tuple etc\n"
   ]
  },
  {
   "cell_type": "code",
   "execution_count": 68,
   "id": "01dff82c",
   "metadata": {},
   "outputs": [
    {
     "ename": "TypeError",
     "evalue": "'str' object does not support item assignment",
     "output_type": "error",
     "traceback": [
      "\u001b[1;31m---------------------------------------------------------------------------\u001b[0m",
      "\u001b[1;31mTypeError\u001b[0m                                 Traceback (most recent call last)",
      "Input \u001b[1;32mIn [68]\u001b[0m, in \u001b[0;36m<cell line: 3>\u001b[1;34m()\u001b[0m\n\u001b[0;32m      1\u001b[0m \u001b[38;5;66;03m# string , int, tuple :- are immutable data type\u001b[39;00m\n\u001b[0;32m      2\u001b[0m my_str \u001b[38;5;241m=\u001b[39m \u001b[38;5;124m'\u001b[39m\u001b[38;5;124mdevendra\u001b[39m\u001b[38;5;124m'\u001b[39m\n\u001b[1;32m----> 3\u001b[0m my_str[\u001b[38;5;241m2\u001b[39m] \u001b[38;5;241m=\u001b[39m \u001b[38;5;124m'\u001b[39m\u001b[38;5;124mE\u001b[39m\u001b[38;5;124m'\u001b[39m\n",
      "\u001b[1;31mTypeError\u001b[0m: 'str' object does not support item assignment"
     ]
    }
   ],
   "source": [
    "# string , int, tuple :- are immutable data type\n",
    "my_str = 'devendra'\n",
    "my_str[2] = 'E'"
   ]
  },
  {
   "cell_type": "code",
   "execution_count": 62,
   "id": "33cd3692",
   "metadata": {},
   "outputs": [
    {
     "ename": "TypeError",
     "evalue": "'tuple' object does not support item assignment",
     "output_type": "error",
     "traceback": [
      "\u001b[1;31m---------------------------------------------------------------------------\u001b[0m",
      "\u001b[1;31mTypeError\u001b[0m                                 Traceback (most recent call last)",
      "Input \u001b[1;32mIn [62]\u001b[0m, in \u001b[0;36m<cell line: 5>\u001b[1;34m()\u001b[0m\n\u001b[0;32m      1\u001b[0m \u001b[38;5;66;03m# tuple are immutable \u001b[39;00m\n\u001b[0;32m      3\u001b[0m mytuple \u001b[38;5;241m=\u001b[39m (\u001b[38;5;241m1\u001b[39m,\u001b[38;5;241m2\u001b[39m,\u001b[38;5;241m3\u001b[39m,\u001b[38;5;241m4\u001b[39m,\u001b[38;5;241m5\u001b[39m,\u001b[38;5;241m6\u001b[39m,\u001b[38;5;241m7\u001b[39m,\u001b[38;5;241m8\u001b[39m,\u001b[38;5;241m9\u001b[39m)\n\u001b[1;32m----> 5\u001b[0m mytuple[\u001b[38;5;241m3\u001b[39m] \u001b[38;5;241m=\u001b[39m \u001b[38;5;241m99\u001b[39m\n",
      "\u001b[1;31mTypeError\u001b[0m: 'tuple' object does not support item assignment"
     ]
    }
   ],
   "source": [
    "# tuple are immutable \n",
    "\n",
    "mytuple = (1,2,3,4,5,6,7,8,9)\n",
    "\n",
    "mytuple[3] = 99"
   ]
  },
  {
   "cell_type": "code",
   "execution_count": 61,
   "id": "e48e6fa8",
   "metadata": {},
   "outputs": [
    {
     "name": "stdout",
     "output_type": "stream",
     "text": [
      "[1, 2, 3, 99, 5, 6, 4, 'dev', 'ram', True]\n"
     ]
    }
   ],
   "source": [
    "# list, dict, set are mutable \n",
    "\n",
    "l = [1,2,3,4,5,6,4,'dev','ram',True]\n",
    "\n",
    "l[3] = 99\n",
    "print(l)"
   ]
  },
  {
   "cell_type": "code",
   "execution_count": 67,
   "id": "ea6a7bd9",
   "metadata": {},
   "outputs": [
    {
     "name": "stdout",
     "output_type": "stream",
     "text": [
      "{'k1': 'v1', 'k2': 'k99', 'k3': 'v3'}\n"
     ]
    }
   ],
   "source": [
    "# dictionary are mutable\n",
    "\n",
    "mydict = {'k1':'v1','k2':'v2','k3':'v3'}\n",
    "\n",
    "mydict['k2'] = 'k99'\n",
    "print(mydict)"
   ]
  },
  {
   "cell_type": "markdown",
   "id": "9ac3fdb0",
   "metadata": {},
   "source": [
    "## QUE(9)"
   ]
  },
  {
   "cell_type": "markdown",
   "id": "a69d2ab1",
   "metadata": {},
   "source": [
    "Q.9. Write a code to create the given structure using only for loop.\n",
    "*\n",
    "***\n",
    "*****\n",
    "*******\n",
    "*********"
   ]
  },
  {
   "cell_type": "code",
   "execution_count": 13,
   "id": "eb85208f",
   "metadata": {},
   "outputs": [
    {
     "name": "stdout",
     "output_type": "stream",
     "text": [
      "        \n",
      "       * \n",
      "      * * \n",
      "     * * * \n",
      "    * * * * \n",
      "   * * * * * \n",
      "  * * * * * * \n",
      " * * * * * * * \n",
      "* * * * * * * * \n"
     ]
    }
   ],
   "source": [
    "n = 8\n",
    "\n",
    "for i in range(n+1):\n",
    "    print(' '*(n-i) + '* '*i)\n"
   ]
  },
  {
   "cell_type": "markdown",
   "id": "c4bcaecf",
   "metadata": {},
   "source": [
    "## QUE(10) "
   ]
  },
  {
   "cell_type": "markdown",
   "id": "aafa3c02",
   "metadata": {},
   "source": [
    "Q.10. Write a code to create the given structure using while loop.\n",
    "|||||||||\n",
    "|||||||\n",
    "|||||\n",
    "|||\n",
    "|"
   ]
  },
  {
   "cell_type": "code",
   "execution_count": 43,
   "id": "5a64483a",
   "metadata": {},
   "outputs": [
    {
     "name": "stdout",
     "output_type": "stream",
     "text": [
      "|||||||||||||\n",
      "|||||||||||\n",
      "|||||||||\n",
      "|||||||\n",
      "|||||\n",
      "|||\n",
      "|\n",
      "\n"
     ]
    }
   ],
   "source": [
    "n = 15\n",
    "k = n-2\n",
    "\n",
    "for i in range(n):\n",
    "    if i%2 == 0:\n",
    "        print((k-i)*'|')"
   ]
  },
  {
   "cell_type": "code",
   "execution_count": null,
   "id": "df0115ce",
   "metadata": {},
   "outputs": [],
   "source": []
  }
 ],
 "metadata": {
  "kernelspec": {
   "display_name": "Python 3 (ipykernel)",
   "language": "python",
   "name": "python3"
  },
  "language_info": {
   "codemirror_mode": {
    "name": "ipython",
    "version": 3
   },
   "file_extension": ".py",
   "mimetype": "text/x-python",
   "name": "python",
   "nbconvert_exporter": "python",
   "pygments_lexer": "ipython3",
   "version": "3.9.12"
  }
 },
 "nbformat": 4,
 "nbformat_minor": 5
}
